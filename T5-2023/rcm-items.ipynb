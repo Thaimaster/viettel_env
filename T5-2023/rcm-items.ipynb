{
 "cells": [
  {
   "cell_type": "markdown",
   "id": "f4bd6a64",
   "metadata": {
    "papermill": {
     "duration": 0.045429,
     "end_time": "2021-10-07T11:36:04.919109",
     "exception": false,
     "start_time": "2021-10-07T11:36:04.873680",
     "status": "completed"
    },
    "tags": []
   },
   "source": [
    "# <center>  Multi-Model Movie Recommendation System Analysis </center>"
   ]
  },
  {
   "cell_type": "markdown",
   "id": "25e4ae15",
   "metadata": {
    "papermill": {
     "duration": 0.043329,
     "end_time": "2021-10-07T11:36:05.000031",
     "exception": false,
     "start_time": "2021-10-07T11:36:04.956702",
     "status": "completed"
    },
    "tags": []
   },
   "source": [
    "**Greetings to everyone!**\n",
    "\n",
    "*The aim of this notebook is to create a recommendation system by first beginning with data exploration and then using 4 different models to create a recommender system.*\n",
    "\n",
    "*It also answers some key questions to be considered when comparing different models of recommendation systems!*\n",
    "\n",
    "\n",
    "\n",
    "> Model 1: Random\n",
    "\n",
    "> Model 2: User-Based Collaborative Filtering\n",
    "\n",
    "> Model 3: Item-Based Collaborative Filtering\n",
    "\n",
    "> Model 4: Matrix Factorization"
   ]
  },
  {
   "cell_type": "markdown",
   "id": "d24a6d7b",
   "metadata": {
    "papermill": {
     "duration": 0.033135,
     "end_time": "2021-10-07T11:36:05.067814",
     "exception": false,
     "start_time": "2021-10-07T11:36:05.034679",
     "status": "completed"
    },
    "tags": []
   },
   "source": [
    "## Import\n",
    "\n",
    "### One of the first steps in any data science task is importing the necessary tools you will use."
   ]
  },
  {
   "cell_type": "code",
   "execution_count": 1,
   "id": "74ca7ebb",
   "metadata": {
    "execution": {
     "iopub.execute_input": "2021-10-07T11:36:05.154406Z",
     "iopub.status.busy": "2021-10-07T11:36:05.153120Z",
     "iopub.status.idle": "2021-10-07T11:36:05.285776Z",
     "shell.execute_reply": "2021-10-07T11:36:05.286515Z",
     "shell.execute_reply.started": "2021-10-07T11:15:58.731608Z"
    },
    "papermill": {
     "duration": 0.183373,
     "end_time": "2021-10-07T11:36:05.286958",
     "exception": false,
     "start_time": "2021-10-07T11:36:05.103585",
     "status": "completed"
    },
    "tags": []
   },
   "outputs": [],
   "source": [
    "#!pip install scikit-surprise\n",
    "import os\n",
    "import matplotlib.pyplot as plt\n",
    "import numpy as np\n",
    "import pandas as pd\n",
    "from surprise import Reader\n",
    "from surprise import Dataset\n",
    "from surprise import  SVD, NormalPredictor, KNNBasic\n",
    "from surprise.model_selection import cross_validate\n",
    "from surprise import accuracy\n",
    "from IPython.display import display\n",
    "from collections import defaultdict\n",
    "from surprise.model_selection import KFold\n",
    "from surprise.model_selection import train_test_split"
   ]
  },
  {
   "cell_type": "code",
   "execution_count": 2,
   "id": "28042d5d",
   "metadata": {
    "execution": {
     "iopub.execute_input": "2021-10-07T11:36:05.378466Z",
     "iopub.status.busy": "2021-10-07T11:36:05.377709Z",
     "iopub.status.idle": "2021-10-07T11:36:05.383641Z",
     "shell.execute_reply": "2021-10-07T11:36:05.384419Z",
     "shell.execute_reply.started": "2021-10-07T11:15:58.904651Z"
    },
    "papermill": {
     "duration": 0.044426,
     "end_time": "2021-10-07T11:36:05.384667",
     "exception": false,
     "start_time": "2021-10-07T11:36:05.340241",
     "status": "completed"
    },
    "tags": []
   },
   "outputs": [
    {
     "name": "stdout",
     "output_type": "stream",
     "text": [
      "/kaggle/working\n"
     ]
    }
   ],
   "source": [
    "print(os.path.abspath(os.curdir))"
   ]
  },
  {
   "cell_type": "markdown",
   "id": "3ddeebc6",
   "metadata": {
    "papermill": {
     "duration": 0.03268,
     "end_time": "2021-10-07T11:36:05.455837",
     "exception": false,
     "start_time": "2021-10-07T11:36:05.423157",
     "status": "completed"
    },
    "tags": []
   },
   "source": [
    "## Reading the Data"
   ]
  },
  {
   "cell_type": "code",
   "execution_count": 3,
   "id": "bf0a1a9e",
   "metadata": {
    "execution": {
     "iopub.execute_input": "2021-10-07T11:36:05.526009Z",
     "iopub.status.busy": "2021-10-07T11:36:05.525031Z",
     "iopub.status.idle": "2021-10-07T11:36:05.666676Z",
     "shell.execute_reply": "2021-10-07T11:36:05.665851Z",
     "shell.execute_reply.started": "2021-10-07T11:15:58.912890Z"
    },
    "papermill": {
     "duration": 0.178255,
     "end_time": "2021-10-07T11:36:05.666963",
     "exception": false,
     "start_time": "2021-10-07T11:36:05.488708",
     "status": "completed"
    },
    "tags": []
   },
   "outputs": [
    {
     "name": "stdout",
     "output_type": "stream",
     "text": [
      "<class 'pandas.core.frame.DataFrame'>\n",
      "RangeIndex: 100000 entries, 0 to 99999\n",
      "Data columns (total 3 columns):\n",
      " #   Column   Non-Null Count   Dtype\n",
      "---  ------   --------------   -----\n",
      " 0   user_id  100000 non-null  int64\n",
      " 1   item_id  100000 non-null  int64\n",
      " 2   rating   100000 non-null  int64\n",
      "dtypes: int64(3)\n",
      "memory usage: 2.3 MB\n"
     ]
    }
   ],
   "source": [
    "col_names = ['user_id', 'item_id', 'rating', 'timestamp']\n",
    "data = pd.read_table('../input/u-data/u.data', names=col_names)\n",
    "data = data.drop('timestamp', axis=1)\n",
    "data.info()"
   ]
  },
  {
   "cell_type": "markdown",
   "id": "e7fd687c",
   "metadata": {
    "papermill": {
     "duration": 0.032555,
     "end_time": "2021-10-07T11:36:05.733319",
     "exception": false,
     "start_time": "2021-10-07T11:36:05.700764",
     "status": "completed"
    },
    "tags": []
   },
   "source": [
    "## 1. Describe the dataset. How many ratings are in the dataset? How would you describe the distribution of ratings? Is there anything else we should observe? Make sure the histogram is visible in the notebook. "
   ]
  },
  {
   "cell_type": "code",
   "execution_count": 4,
   "id": "ca4d15d4",
   "metadata": {
    "execution": {
     "iopub.execute_input": "2021-10-07T11:36:05.827425Z",
     "iopub.status.busy": "2021-10-07T11:36:05.826435Z",
     "iopub.status.idle": "2021-10-07T11:36:05.840895Z",
     "shell.execute_reply": "2021-10-07T11:36:05.841760Z",
     "shell.execute_reply.started": "2021-10-07T11:15:59.061757Z"
    },
    "papermill": {
     "duration": 0.066056,
     "end_time": "2021-10-07T11:36:05.842015",
     "exception": false,
     "start_time": "2021-10-07T11:36:05.775959",
     "status": "completed"
    },
    "tags": []
   },
   "outputs": [
    {
     "data": {
      "text/html": [
       "<div>\n",
       "<style scoped>\n",
       "    .dataframe tbody tr th:only-of-type {\n",
       "        vertical-align: middle;\n",
       "    }\n",
       "\n",
       "    .dataframe tbody tr th {\n",
       "        vertical-align: top;\n",
       "    }\n",
       "\n",
       "    .dataframe thead th {\n",
       "        text-align: right;\n",
       "    }\n",
       "</style>\n",
       "<table border=\"1\" class=\"dataframe\">\n",
       "  <thead>\n",
       "    <tr style=\"text-align: right;\">\n",
       "      <th></th>\n",
       "      <th>user_id</th>\n",
       "      <th>item_id</th>\n",
       "      <th>rating</th>\n",
       "    </tr>\n",
       "  </thead>\n",
       "  <tbody>\n",
       "    <tr>\n",
       "      <th>0</th>\n",
       "      <td>196</td>\n",
       "      <td>242</td>\n",
       "      <td>3</td>\n",
       "    </tr>\n",
       "    <tr>\n",
       "      <th>1</th>\n",
       "      <td>186</td>\n",
       "      <td>302</td>\n",
       "      <td>3</td>\n",
       "    </tr>\n",
       "    <tr>\n",
       "      <th>2</th>\n",
       "      <td>22</td>\n",
       "      <td>377</td>\n",
       "      <td>1</td>\n",
       "    </tr>\n",
       "    <tr>\n",
       "      <th>3</th>\n",
       "      <td>244</td>\n",
       "      <td>51</td>\n",
       "      <td>2</td>\n",
       "    </tr>\n",
       "    <tr>\n",
       "      <th>4</th>\n",
       "      <td>166</td>\n",
       "      <td>346</td>\n",
       "      <td>1</td>\n",
       "    </tr>\n",
       "  </tbody>\n",
       "</table>\n",
       "</div>"
      ],
      "text/plain": [
       "   user_id  item_id  rating\n",
       "0      196      242       3\n",
       "1      186      302       3\n",
       "2       22      377       1\n",
       "3      244       51       2\n",
       "4      166      346       1"
      ]
     },
     "execution_count": 4,
     "metadata": {},
     "output_type": "execute_result"
    }
   ],
   "source": [
    "data.head()"
   ]
  },
  {
   "cell_type": "code",
   "execution_count": 5,
   "id": "fd71cebc",
   "metadata": {
    "execution": {
     "iopub.execute_input": "2021-10-07T11:36:05.915665Z",
     "iopub.status.busy": "2021-10-07T11:36:05.914944Z",
     "iopub.status.idle": "2021-10-07T11:36:06.155886Z",
     "shell.execute_reply": "2021-10-07T11:36:06.155201Z",
     "shell.execute_reply.started": "2021-10-07T11:15:59.081853Z"
    },
    "papermill": {
     "duration": 0.278941,
     "end_time": "2021-10-07T11:36:06.156037",
     "exception": false,
     "start_time": "2021-10-07T11:36:05.877096",
     "status": "completed"
    },
    "tags": []
   },
   "outputs": [
    {
     "data": {
      "image/png": "[encoded data removed]",
      "text/plain": [
       "<Figure size 432x288 with 1 Axes>"
      ]
     },
     "metadata": {
      "needs_background": "light"
     },
     "output_type": "display_data"
    }
   ],
   "source": [
    "data.rating.hist(bins=5)\n",
    "plt.show()"
   ]
  },
  {
   "cell_type": "code",
   "execution_count": 6,
   "id": "ab34e715",
   "metadata": {
    "execution": {
     "iopub.execute_input": "2021-10-07T11:36:06.236709Z",
     "iopub.status.busy": "2021-10-07T11:36:06.231371Z",
     "iopub.status.idle": "2021-10-07T11:36:06.421748Z",
     "shell.execute_reply": "2021-10-07T11:36:06.421232Z",
     "shell.execute_reply.started": "2021-10-07T11:15:59.373060Z"
    },
    "papermill": {
     "duration": 0.230962,
     "end_time": "2021-10-07T11:36:06.421890",
     "exception": false,
     "start_time": "2021-10-07T11:36:06.190928",
     "status": "completed"
    },
    "tags": []
   },
   "outputs": [
    {
     "data": {
      "image/png": "[encoded data removed]",
      "text/plain": [
       "<Figure size 432x288 with 1 Axes>"
      ]
     },
     "metadata": {
      "needs_background": "light"
     },
     "output_type": "display_data"
    }
   ],
   "source": [
    "data.rating.hist()\n",
    "plt.show()"
   ]
  },
  {
   "cell_type": "markdown",
   "id": "2d18c444",
   "metadata": {
    "papermill": {
     "duration": 0.034232,
     "end_time": "2021-10-07T11:36:06.490896",
     "exception": false,
     "start_time": "2021-10-07T11:36:06.456664",
     "status": "completed"
    },
    "tags": []
   },
   "source": [
    "## Computing the sparsity of the dataset"
   ]
  },
  {
   "cell_type": "markdown",
   "id": "ac6d0654",
   "metadata": {
    "papermill": {
     "duration": 0.034476,
     "end_time": "2021-10-07T11:36:06.560140",
     "exception": false,
     "start_time": "2021-10-07T11:36:06.525664",
     "status": "completed"
    },
    "tags": []
   },
   "source": [
    "**In AI inference and machine learning, sparsity refers to a matrix of numbers that includes many zeros or values that will not significantly impact a calculation.**"
   ]
  },
  {
   "cell_type": "code",
   "execution_count": 7,
   "id": "7db307fb",
   "metadata": {
    "execution": {
     "iopub.execute_input": "2021-10-07T11:36:06.636313Z",
     "iopub.status.busy": "2021-10-07T11:36:06.635333Z",
     "iopub.status.idle": "2021-10-07T11:36:06.651029Z",
     "shell.execute_reply": "2021-10-07T11:36:06.651532Z",
     "shell.execute_reply.started": "2021-10-07T11:15:59.612395Z"
    },
    "papermill": {
     "duration": 0.05693,
     "end_time": "2021-10-07T11:36:06.651727",
     "exception": false,
     "start_time": "2021-10-07T11:36:06.594797",
     "status": "completed"
    },
    "tags": []
   },
   "outputs": [
    {
     "name": "stdout",
     "output_type": "stream",
     "text": [
      "Sparsity of Dataset is 6.304669364224531 Percent\n"
     ]
    }
   ],
   "source": [
    "num_ratings = float(len(data))\n",
    "num_movies = float(len(np.unique(data[\"item_id\"])))\n",
    "num_users = float(len(np.unique(data[\"user_id\"])))\n",
    "sparsity = (num_ratings / (num_movies * num_users)) * 100.0\n",
    "print(\"Sparsity of Dataset is\", sparsity, \"Percent\")"
   ]
  },
  {
   "cell_type": "markdown",
   "id": "a32b8caa",
   "metadata": {
    "papermill": {
     "duration": 0.035119,
     "end_time": "2021-10-07T11:36:06.721995",
     "exception": false,
     "start_time": "2021-10-07T11:36:06.686876",
     "status": "completed"
    },
    "tags": []
   },
   "source": [
    "**Ans:**\n",
    "\n",
    "*The dataset has 100000 rows and 3 columns. There are no Nulls in the dataset. The ratings are ranging from 1 to 5*.\n",
    "\n",
    "*Data seems to be highly skewed towards rating '4'. Rating '3' is second highest in count folowed by Rating '5'*."
   ]
  },
  {
   "cell_type": "markdown",
   "id": "a0b2f3f4",
   "metadata": {
    "papermill": {
     "duration": 0.03562,
     "end_time": "2021-10-07T11:36:06.792871",
     "exception": false,
     "start_time": "2021-10-07T11:36:06.757251",
     "status": "completed"
    },
    "tags": []
   },
   "source": [
    "## Cross Validation\n",
    "\n",
    "\n",
    "We will be using cross validation a lot in this code in the training and evaluation of our models. This strategy builds upon the idea of a train-test split, which you should already be familiar with.\n",
    "\n",
    "Instead of doing 1 data split, though, we will do several of them. Each split of the data is called a fold. We let k denote the number of folds we use. k=5 is a common number to use.\n",
    "\n",
    "This image provides a visual explanation of how cross validation works.\n",
    "\n",
    "<center><img src =\"https://upload.wikimedia.org/wikipedia/commons/1/1c/K-fold_cross_validation_EN.jpg\"></img></center>"
   ]
  },
  {
   "cell_type": "markdown",
   "id": "056a9db3",
   "metadata": {
    "papermill": {
     "duration": 0.045732,
     "end_time": "2021-10-07T11:36:06.875165",
     "exception": false,
     "start_time": "2021-10-07T11:36:06.829433",
     "status": "completed"
    },
    "tags": []
   },
   "source": [
    "### We will use \"cross_validate\" from surprise package to run the models as listed and check their respective RMSEs"
   ]
  },
  {
   "cell_type": "code",
   "execution_count": 8,
   "id": "e55b28fd",
   "metadata": {
    "execution": {
     "iopub.execute_input": "2021-10-07T11:36:06.975316Z",
     "iopub.status.busy": "2021-10-07T11:36:06.974391Z",
     "iopub.status.idle": "2021-10-07T11:36:07.125402Z",
     "shell.execute_reply": "2021-10-07T11:36:07.124712Z",
     "shell.execute_reply.started": "2021-10-07T11:15:59.633697Z"
    },
    "papermill": {
     "duration": 0.202197,
     "end_time": "2021-10-07T11:36:07.125600",
     "exception": false,
     "start_time": "2021-10-07T11:36:06.923403",
     "status": "completed"
    },
    "tags": []
   },
   "outputs": [],
   "source": [
    "#coverting data in to surprise dataset\n",
    "reader = Reader(rating_scale=(1,5))\n",
    "data = Dataset.load_from_df(data[['user_id', 'item_id', 'rating']], reader)"
   ]
  },
  {
   "cell_type": "markdown",
   "id": "2051a913",
   "metadata": {
    "papermill": {
     "duration": 0.035839,
     "end_time": "2021-10-07T11:36:07.198177",
     "exception": false,
     "start_time": "2021-10-07T11:36:07.162338",
     "status": "completed"
    },
    "tags": []
   },
   "source": [
    "## Model 1: Random\n",
    "\n",
    "We want to first get a baseline value for our model. What better way to do that than with a random algorithm! Essentially, this first algorithm is not personalized to the desires of any users - we just assign them movie ratings based on the initial distribution of the data."
   ]
  },
  {
   "cell_type": "code",
   "execution_count": 9,
   "id": "40101e39",
   "metadata": {
    "execution": {
     "iopub.execute_input": "2021-10-07T11:36:07.277389Z",
     "iopub.status.busy": "2021-10-07T11:36:07.276527Z",
     "iopub.status.idle": "2021-10-07T11:36:07.279297Z",
     "shell.execute_reply": "2021-10-07T11:36:07.279793Z",
     "shell.execute_reply.started": "2021-10-07T11:15:59.819274Z"
    },
    "papermill": {
     "duration": 0.044877,
     "end_time": "2021-10-07T11:36:07.279957",
     "exception": false,
     "start_time": "2021-10-07T11:36:07.235080",
     "status": "completed"
    },
    "tags": []
   },
   "outputs": [],
   "source": [
    "#Algorithm predicting a random rating based on the distribution of the training set, which is assumed to be normal.\n",
    "model_random = NormalPredictor()"
   ]
  },
  {
   "cell_type": "code",
   "execution_count": 10,
   "id": "3e611b1c",
   "metadata": {
    "execution": {
     "iopub.execute_input": "2021-10-07T11:36:07.353474Z",
     "iopub.status.busy": "2021-10-07T11:36:07.352818Z",
     "iopub.status.idle": "2021-10-07T11:36:10.487040Z",
     "shell.execute_reply": "2021-10-07T11:36:10.486398Z",
     "shell.execute_reply.started": "2021-10-07T11:15:59.828616Z"
    },
    "papermill": {
     "duration": 3.17213,
     "end_time": "2021-10-07T11:36:10.487215",
     "exception": false,
     "start_time": "2021-10-07T11:36:07.315085",
     "status": "completed"
    },
    "tags": []
   },
   "outputs": [],
   "source": [
    "model_using_normal_predictor = cross_validate(model_random, data,measures=['RMSE'],cv=5, verbose=False)"
   ]
  },
  {
   "cell_type": "code",
   "execution_count": 11,
   "id": "d90a0cf8",
   "metadata": {
    "execution": {
     "iopub.execute_input": "2021-10-07T11:36:10.565203Z",
     "iopub.status.busy": "2021-10-07T11:36:10.564430Z",
     "iopub.status.idle": "2021-10-07T11:36:10.567090Z",
     "shell.execute_reply": "2021-10-07T11:36:10.567691Z",
     "shell.execute_reply.started": "2021-10-07T11:16:03.128342Z"
    },
    "papermill": {
     "duration": 0.044452,
     "end_time": "2021-10-07T11:36:10.567856",
     "exception": false,
     "start_time": "2021-10-07T11:36:10.523404",
     "status": "completed"
    },
    "tags": []
   },
   "outputs": [
    {
     "name": "stdout",
     "output_type": "stream",
     "text": [
      "Average RMSE for Test Set using NormalPredictor is  1.5170409833991891\n"
     ]
    }
   ],
   "source": [
    "print('Average RMSE for Test Set using {} is '.format(model_random.__class__.__name__),model_using_normal_predictor['test_rmse'].mean())"
   ]
  },
  {
   "cell_type": "markdown",
   "id": "325c48c6",
   "metadata": {
    "papermill": {
     "duration": 0.034769,
     "end_time": "2021-10-07T11:36:10.638802",
     "exception": false,
     "start_time": "2021-10-07T11:36:10.604033",
     "status": "completed"
    },
    "tags": []
   },
   "source": [
    "## Model 2: User-Based Collaborative Filtering\n",
    "\n",
    "Surely, we can do much better than guessing the movie ratings randomly! Our next model will use the user-user defined notion of similarity to implement collaborative filtering.\n",
    "\n",
    "User-Based Collaborative Filtering is a technique used to predict the items that a user might like on the basis of ratings given to that item by the other users who have similar taste with that of the target user.\n",
    "Many websites use collaborative filtering for building their recommendation system."
   ]
  },
  {
   "cell_type": "markdown",
   "id": "845f3c8d",
   "metadata": {
    "papermill": {
     "duration": 0.035322,
     "end_time": "2021-10-07T11:36:10.709725",
     "exception": false,
     "start_time": "2021-10-07T11:36:10.674403",
     "status": "completed"
    },
    "tags": []
   },
   "source": [
    "*We will use KNNBasic and add parameter 'cosine'*"
   ]
  },
  {
   "cell_type": "code",
   "execution_count": 12,
   "id": "66de52fb",
   "metadata": {
    "execution": {
     "iopub.execute_input": "2021-10-07T11:36:10.787338Z",
     "iopub.status.busy": "2021-10-07T11:36:10.786706Z",
     "iopub.status.idle": "2021-10-07T11:36:47.566955Z",
     "shell.execute_reply": "2021-10-07T11:36:47.566354Z",
     "shell.execute_reply.started": "2021-10-07T11:16:03.137811Z"
    },
    "papermill": {
     "duration": 36.821757,
     "end_time": "2021-10-07T11:36:47.567120",
     "exception": false,
     "start_time": "2021-10-07T11:36:10.745363",
     "status": "completed"
    },
    "tags": []
   },
   "outputs": [],
   "source": [
    "model_user_based = KNNBasic(sim_options ={'name':'cosine','user_base':True},verbose=False)\n",
    "model_using_KNNbasic_cos_user = cross_validate(model_user_based,data,measures=['RMSE'],cv=5, verbose=False)"
   ]
  },
  {
   "cell_type": "code",
   "execution_count": 13,
   "id": "8f1d9b43",
   "metadata": {
    "execution": {
     "iopub.execute_input": "2021-10-07T11:36:47.643449Z",
     "iopub.status.busy": "2021-10-07T11:36:47.642794Z",
     "iopub.status.idle": "2021-10-07T11:36:47.647097Z",
     "shell.execute_reply": "2021-10-07T11:36:47.646573Z",
     "shell.execute_reply.started": "2021-10-07T11:16:40.647711Z"
    },
    "papermill": {
     "duration": 0.044354,
     "end_time": "2021-10-07T11:36:47.647249",
     "exception": false,
     "start_time": "2021-10-07T11:36:47.602895",
     "status": "completed"
    },
    "tags": []
   },
   "outputs": [
    {
     "name": "stdout",
     "output_type": "stream",
     "text": [
      "Average RMSE for Test Set using KNNBasic is  1.0167064389274099\n"
     ]
    }
   ],
   "source": [
    "print('Average RMSE for Test Set using {} is '.format(model_user_based.__class__.__name__),model_using_KNNbasic_cos_user['test_rmse'].mean())"
   ]
  },
  {
   "cell_type": "markdown",
   "id": "9cf8a70e",
   "metadata": {
    "papermill": {
     "duration": 0.035062,
     "end_time": "2021-10-07T11:36:47.717938",
     "exception": false,
     "start_time": "2021-10-07T11:36:47.682876",
     "status": "completed"
    },
    "tags": []
   },
   "source": [
    "## Model 3: Item-Based Collaborative Filtering\n",
    "\n",
    "Our next model will use the item-item defined notion of similarity to once again implement collaborative filtering.\n",
    "\n",
    "Here, we explore the relationship between the pair of items (the user who bought Y, also bought Z). We find the missing rating with the help of the ratings given to the other items by the user.\n",
    "\n",
    "It was first invented and used by Amazon in 1998. Rather than matching the user to similar customers, item-to-item collaborative filtering matches each of the user’s purchased and rated items to similar items, then combines those similar items into a recommendation list. Now, let us discuss how it works."
   ]
  },
  {
   "cell_type": "code",
   "execution_count": 14,
   "id": "6010c174",
   "metadata": {
    "execution": {
     "iopub.execute_input": "2021-10-07T11:36:47.810618Z",
     "iopub.status.busy": "2021-10-07T11:36:47.805323Z",
     "iopub.status.idle": "2021-10-07T11:37:24.588716Z",
     "shell.execute_reply": "2021-10-07T11:37:24.587985Z",
     "shell.execute_reply.started": "2021-10-07T11:16:40.656108Z"
    },
    "papermill": {
     "duration": 36.835219,
     "end_time": "2021-10-07T11:37:24.588874",
     "exception": false,
     "start_time": "2021-10-07T11:36:47.753655",
     "status": "completed"
    },
    "tags": []
   },
   "outputs": [],
   "source": [
    "model_item_based = KNNBasic(sim_options ={'name':'cosine','user_base':False},verbose=False)\n",
    "model_using_KNNbasic_cos_item = cross_validate(model_item_based,data,measures=['RMSE'],cv=5, verbose=False)"
   ]
  },
  {
   "cell_type": "code",
   "execution_count": 15,
   "id": "29a3d52c",
   "metadata": {
    "execution": {
     "iopub.execute_input": "2021-10-07T11:37:24.668094Z",
     "iopub.status.busy": "2021-10-07T11:37:24.667361Z",
     "iopub.status.idle": "2021-10-07T11:37:24.670506Z",
     "shell.execute_reply": "2021-10-07T11:37:24.671007Z",
     "shell.execute_reply.started": "2021-10-07T11:17:18.140344Z"
    },
    "papermill": {
     "duration": 0.045313,
     "end_time": "2021-10-07T11:37:24.671188",
     "exception": false,
     "start_time": "2021-10-07T11:37:24.625875",
     "status": "completed"
    },
    "tags": []
   },
   "outputs": [
    {
     "name": "stdout",
     "output_type": "stream",
     "text": [
      "Average RMSE for Test Set using KNNBasic is  1.0165037345437389\n"
     ]
    }
   ],
   "source": [
    "print('Average RMSE for Test Set using {} is '.format(model_item_based.__class__.__name__),model_using_KNNbasic_cos_item['test_rmse'].mean())"
   ]
  },
  {
   "cell_type": "markdown",
   "id": "3e3156f4",
   "metadata": {
    "papermill": {
     "duration": 0.035663,
     "end_time": "2021-10-07T11:37:24.743003",
     "exception": false,
     "start_time": "2021-10-07T11:37:24.707340",
     "status": "completed"
    },
    "tags": []
   },
   "source": [
    "## 2.\tCompare the results from the user-user and item-item models. How do they compare to each other? How do they compare to our original \"random\" model? Can you provide any intuition as to why the results came out the way they did?"
   ]
  },
  {
   "cell_type": "markdown",
   "id": "73b75b1a",
   "metadata": {
    "papermill": {
     "duration": 0.036334,
     "end_time": "2021-10-07T11:37:24.815649",
     "exception": false,
     "start_time": "2021-10-07T11:37:24.779315",
     "status": "completed"
    },
    "tags": []
   },
   "source": [
    "**Ans:**\n",
    "*User-based and Item-based Collaborative Models have nearly same RMSE values while the \"random\" model's RMSE is highest. Clearly, Collaborative Filtering Models have performed better than random model.* \n",
    "\n",
    "*The Collaborative Models use the user-item-ratings data to find similarities and make predictions rather than just predicting a random rating based on the distribution of the data. This could a reason why the Collaborative Models performed well.*"
   ]
  },
  {
   "cell_type": "markdown",
   "id": "6e2d6ea0",
   "metadata": {
    "papermill": {
     "duration": 0.03645,
     "end_time": "2021-10-07T11:37:24.891822",
     "exception": false,
     "start_time": "2021-10-07T11:37:24.855372",
     "status": "completed"
    },
    "tags": []
   },
   "source": [
    "## Model 4: Matrix Factorization\n",
    "\n",
    "Our final model for this case study will use the matrix factorization approach with the SVD algorithm to try to predict user’s movie ratings. Here, we try to determine some underlying mathematical structure in the user rating matrix, which can help us predict missing ratings in the future.\n",
    "\n",
    "Matrix factorization is a way to generate latent features when multiplying two different kinds of entities. Collaborative filtering is the application of matrix factorization to identify the relationship between items’ and users’ entities. With the input of users’ ratings on the shop items, we would like to predict how the users would rate the items so the users can get the recommendation based on the prediction."
   ]
  },
  {
   "cell_type": "code",
   "execution_count": 16,
   "id": "7f07e9bb",
   "metadata": {
    "execution": {
     "iopub.execute_input": "2021-10-07T11:37:25.044873Z",
     "iopub.status.busy": "2021-10-07T11:37:25.000261Z",
     "iopub.status.idle": "2021-10-07T11:38:10.468391Z",
     "shell.execute_reply": "2021-10-07T11:38:10.468903Z",
     "shell.execute_reply.started": "2021-10-07T11:17:18.148346Z"
    },
    "papermill": {
     "duration": 45.541197,
     "end_time": "2021-10-07T11:38:10.469102",
     "exception": false,
     "start_time": "2021-10-07T11:37:24.927905",
     "status": "completed"
    },
    "tags": []
   },
   "outputs": [],
   "source": [
    "#matrix factorisation using svd\n",
    "model_svd = SVD()\n",
    "model_using_svd = cross_validate(model_svd,data,measures=['RMSE'],cv=5, verbose=False)"
   ]
  },
  {
   "cell_type": "code",
   "execution_count": 17,
   "id": "3a566896",
   "metadata": {
    "execution": {
     "iopub.execute_input": "2021-10-07T11:38:10.548439Z",
     "iopub.status.busy": "2021-10-07T11:38:10.547777Z",
     "iopub.status.idle": "2021-10-07T11:38:10.550820Z",
     "shell.execute_reply": "2021-10-07T11:38:10.551325Z",
     "shell.execute_reply.started": "2021-10-07T11:18:03.919690Z"
    },
    "papermill": {
     "duration": 0.045514,
     "end_time": "2021-10-07T11:38:10.551526",
     "exception": false,
     "start_time": "2021-10-07T11:38:10.506012",
     "status": "completed"
    },
    "tags": []
   },
   "outputs": [
    {
     "name": "stdout",
     "output_type": "stream",
     "text": [
      "Average RMSE for Test Set using SVD is  0.9350469274317288\n"
     ]
    }
   ],
   "source": [
    "print('Average RMSE for Test Set using {} is '.format(model_svd.__class__.__name__),model_using_svd['test_rmse'].mean())"
   ]
  },
  {
   "cell_type": "markdown",
   "id": "e54ad5d0",
   "metadata": {
    "papermill": {
     "duration": 0.036136,
     "end_time": "2021-10-07T11:38:10.624209",
     "exception": false,
     "start_time": "2021-10-07T11:38:10.588073",
     "status": "completed"
    },
    "tags": []
   },
   "source": [
    "## 3.\tThe matrix factorization model is different from the collaborative filtering models. Briefly describe this difference. Also, compare the RMSE again. Does it improve? Can you offer any reasoning as to why that might be?"
   ]
  },
  {
   "cell_type": "markdown",
   "id": "3c075e2c",
   "metadata": {
    "papermill": {
     "duration": 0.035765,
     "end_time": "2021-10-07T11:38:10.696067",
     "exception": false,
     "start_time": "2021-10-07T11:38:10.660302",
     "status": "completed"
    },
    "tags": []
   },
   "source": [
    "**Ans:**\n",
    "\n",
    "*Collaborative Filtering searches for neighbors based on similarity of product (example) preferences and recommend product that those neighbors bought/reviewed while Matrix factorization works by decomposing the user-item matrix into the product of two lower dimensionality rectangular matrices.*\n",
    "\n",
    "*RMSE for Matrix Factorization is slightly better than the Collaborative Filtering Models.*\n",
    "\n",
    "*Matrix Factorization has lower RMSE due to the reason that it assumes  that  both product and users are present in some low dimensional space describing their properties and recommend a product based on its proximity to the user in the latent space. Implying it accounts for latent factors as well*"
   ]
  },
  {
   "cell_type": "markdown",
   "id": "92a78e37",
   "metadata": {
    "papermill": {
     "duration": 0.036737,
     "end_time": "2021-10-07T11:38:10.768959",
     "exception": false,
     "start_time": "2021-10-07T11:38:10.732222",
     "status": "completed"
    },
    "tags": []
   },
   "source": [
    "## Precision and Recall @ k\n",
    "\n",
    "RMSE is not the only metric we can use here. We can also examine two fundamental measures, precision and recall. We also add a parameter k which is helpful in understanding problems with multiple rating outputs."
   ]
  },
  {
   "cell_type": "markdown",
   "id": "0b1a81e0",
   "metadata": {
    "papermill": {
     "duration": 0.037518,
     "end_time": "2021-10-07T11:38:10.843171",
     "exception": false,
     "start_time": "2021-10-07T11:38:10.805653",
     "status": "completed"
    },
    "tags": []
   },
   "source": [
    "## Precision\n",
    "Precision attempts to answer the following question:\n",
    "\n",
    "> What proportion of positive identifications was actually correct?\n",
    "\n",
    "Precision is defined as follows:\n",
    "\n",
    "<center><img src='https://cdn.analyticsvidhya.com/wp-content/uploads/2019/09/prec.png'></center>"
   ]
  },
  {
   "cell_type": "markdown",
   "id": "b953665c",
   "metadata": {
    "papermill": {
     "duration": 0.036301,
     "end_time": "2021-10-07T11:38:10.916165",
     "exception": false,
     "start_time": "2021-10-07T11:38:10.879864",
     "status": "completed"
    },
    "tags": []
   },
   "source": [
    "## Recall\n",
    "Recall attempts to answer the following question:\n",
    "\n",
    "> What proportion of actual positives was identified correctly?\n",
    "\n",
    "Mathematically, recall is defined as follows:\n",
    "\n",
    "<center><img src='https://cdn.analyticsvidhya.com/wp-content/uploads/2019/09/recall.png'></center>"
   ]
  },
  {
   "cell_type": "markdown",
   "id": "e26bbdd4",
   "metadata": {
    "papermill": {
     "duration": 0.03601,
     "end_time": "2021-10-07T11:38:10.988698",
     "exception": false,
     "start_time": "2021-10-07T11:38:10.952688",
     "status": "completed"
    },
    "tags": []
   },
   "source": [
    "## 4.\tCompute the precision and recall, for each of the 4 models, at k = 5 and 10. This is 2 x 2 x 4 = 16 numerical values. Do you note anything interesting about these values? Anything different from the RMSE values you computed above?"
   ]
  },
  {
   "cell_type": "code",
   "execution_count": 18,
   "id": "43b942f8",
   "metadata": {
    "execution": {
     "iopub.execute_input": "2021-10-07T11:38:11.074596Z",
     "iopub.status.busy": "2021-10-07T11:38:11.073769Z",
     "iopub.status.idle": "2021-10-07T11:38:11.076672Z",
     "shell.execute_reply": "2021-10-07T11:38:11.076169Z",
     "shell.execute_reply.started": "2021-10-07T11:18:03.927134Z"
    },
    "papermill": {
     "duration": 0.050609,
     "end_time": "2021-10-07T11:38:11.076824",
     "exception": false,
     "start_time": "2021-10-07T11:38:11.026215",
     "status": "completed"
    },
    "tags": []
   },
   "outputs": [],
   "source": [
    "#function can be found on surprise documentation FAQs\n",
    "def precision_recall_at_k(predictions, k=10, threshold=3.5):\n",
    "    \"\"\"Return precision and recall at k metrics for each user\"\"\"\n",
    "\n",
    "    # First map the predictions to each user.\n",
    "    user_est_true = defaultdict(list)\n",
    "    for uid, _, true_r, est, _ in predictions:\n",
    "        user_est_true[uid].append((est, true_r))\n",
    "\n",
    "    precisions = dict()\n",
    "    recalls = dict()\n",
    "    for uid, user_ratings in user_est_true.items():\n",
    "\n",
    "        # Sort user ratings by estimated value\n",
    "        user_ratings.sort(key=lambda x: x[0], reverse=True)\n",
    "\n",
    "        # Number of relevant items\n",
    "        n_rel = sum((true_r >= threshold) for (_, true_r) in user_ratings)\n",
    "\n",
    "        # Number of recommended items in top k\n",
    "        n_rec_k = sum((est >= threshold) for (est, _) in user_ratings[:k])\n",
    "\n",
    "        # Number of relevant and recommended items in top k\n",
    "        n_rel_and_rec_k = sum(((true_r >= threshold) and (est >= threshold))\n",
    "                              for (est, true_r) in user_ratings[:k])\n",
    "\n",
    "        # Precision@K: Proportion of recommended items that are relevant\n",
    "        # When n_rec_k is 0, Precision is undefined. We here set it to 0.\n",
    "\n",
    "        precisions[uid] = n_rel_and_rec_k / n_rec_k if n_rec_k != 0 else 0\n",
    "\n",
    "        # Recall@K: Proportion of relevant items that are recommended\n",
    "        # When n_rel is 0, Recall is undefined. We here set it to 0.\n",
    "\n",
    "        recalls[uid] = n_rel_and_rec_k / n_rel if n_rel != 0 else 0\n",
    "\n",
    "    return precisions, recalls"
   ]
  },
  {
   "cell_type": "code",
   "execution_count": 19,
   "id": "887d2027",
   "metadata": {
    "execution": {
     "iopub.execute_input": "2021-10-07T11:38:11.155789Z",
     "iopub.status.busy": "2021-10-07T11:38:11.154802Z",
     "iopub.status.idle": "2021-10-07T11:38:11.157279Z",
     "shell.execute_reply": "2021-10-07T11:38:11.156769Z",
     "shell.execute_reply.started": "2021-10-07T11:18:03.941929Z"
    },
    "papermill": {
     "duration": 0.044127,
     "end_time": "2021-10-07T11:38:11.157414",
     "exception": false,
     "start_time": "2021-10-07T11:38:11.113287",
     "status": "completed"
    },
    "tags": []
   },
   "outputs": [],
   "source": [
    "#A basic cross-validation iterator.\n",
    "kf = KFold(n_splits=5)"
   ]
  },
  {
   "cell_type": "code",
   "execution_count": 20,
   "id": "20a12b27",
   "metadata": {
    "execution": {
     "iopub.execute_input": "2021-10-07T11:38:11.241005Z",
     "iopub.status.busy": "2021-10-07T11:38:11.240281Z",
     "iopub.status.idle": "2021-10-07T11:42:22.717230Z",
     "shell.execute_reply": "2021-10-07T11:42:22.717769Z",
     "shell.execute_reply.started": "2021-10-07T11:18:03.958237Z"
    },
    "papermill": {
     "duration": 251.523327,
     "end_time": "2021-10-07T11:42:22.717959",
     "exception": false,
     "start_time": "2021-10-07T11:38:11.194632",
     "status": "completed"
    },
    "tags": []
   },
   "outputs": [
    {
     "name": "stdout",
     "output_type": "stream",
     "text": [
      "> k=5, model=NormalPredictor\n",
      "-----> Precision:  0.571\n",
      "-----> Recall:  0.324\n",
      "> k=5, model=KNNBasic\n",
      "-----> Precision:  0.732\n",
      "-----> Recall:  0.435\n",
      "> k=5, model=KNNBasic\n",
      "-----> Precision:  0.731\n",
      "-----> Recall:  0.432\n",
      "> k=5, model=SVD\n",
      "-----> Precision:  0.733\n",
      "-----> Recall:  0.415\n",
      "> k=10, model=NormalPredictor\n",
      "-----> Precision:  0.569\n",
      "-----> Recall:  0.417\n",
      "> k=10, model=KNNBasic\n",
      "-----> Precision:  0.706\n",
      "-----> Recall:  0.576\n",
      "> k=10, model=KNNBasic\n",
      "-----> Precision:  0.703\n",
      "-----> Recall:  0.574\n",
      "> k=10, model=SVD\n",
      "-----> Precision:  0.7\n",
      "-----> Recall:  0.538\n"
     ]
    }
   ],
   "source": [
    "# Make list of k values\n",
    "K = [5, 10]\n",
    "\n",
    "# Make list of models\n",
    "models = [model_random, model_user_based, model_item_based, model_svd]\n",
    "\n",
    "for k in K:\n",
    "    for model in models:\n",
    "        print('> k={}, model={}'.format(k,model.__class__.__name__))\n",
    "        p = []\n",
    "        r = []\n",
    "        for trainset, testset in kf.split(data):\n",
    "            model.fit(trainset)\n",
    "            predictions = model.test(testset, verbose=False)\n",
    "            precisions, recalls = precision_recall_at_k(predictions, k=k, threshold=3.5)\n",
    "\n",
    "            # Precision and recall can then be averaged over all users\n",
    "            p.append(sum(prec for prec in precisions.values()) / len(precisions))\n",
    "            r.append(sum(rec for rec in recalls.values()) / len(recalls))\n",
    "        \n",
    "        print('-----> Precision: ', round(sum(p) / len(p), 3))\n",
    "        print('-----> Recall: ', round(sum(r) / len(r), 3))"
   ]
  },
  {
   "cell_type": "markdown",
   "id": "e82f4a6c",
   "metadata": {
    "papermill": {
     "duration": 0.038972,
     "end_time": "2021-10-07T11:42:22.796340",
     "exception": false,
     "start_time": "2021-10-07T11:42:22.757368",
     "status": "completed"
    },
    "tags": []
   },
   "source": [
    "**Ans:**\n",
    "\n",
    "> Precision quantifies the number of positive class predictions that actually belong to the positive class. \n",
    "\n",
    "> Recall quantifies the number of positive class predictions made out of all positive examples in the dataset. \n",
    "\n",
    "*These values are lowest for Random. Collaborative Filtering performed well in both the k values with Precision value ~70% and with k=5, ~73%.*\n",
    "*(The values while creating the notebook were different and hence might be different from those above)*\n",
    "\n",
    "*SVD has better RMSE but Collaborative Filtering using Item-Item or User-User have better Precision & Recall.*\n",
    "\n",
    "*RMSE values are used for Continuous d-type while Precision-Recall are calculated for categorical d-type using Confusion matrix. Thus cannot be compared directly.*"
   ]
  },
  {
   "cell_type": "markdown",
   "id": "fce07188",
   "metadata": {
    "papermill": {
     "duration": 0.040014,
     "end_time": "2021-10-07T11:42:22.876247",
     "exception": false,
     "start_time": "2021-10-07T11:42:22.836233",
     "status": "completed"
    },
    "tags": []
   },
   "source": [
    "## Top-n Predictions\n",
    "\n",
    "Finally, we want to actually see what ratings the model predicts for our users. We can vary the amount of top movies we see per user by varying the value of n.\n",
    "\n",
    " <a href=https://surprise.readthedocs.io/en/stable/FAQ.html> Documentation for Surprise</a>"
   ]
  },
  {
   "cell_type": "code",
   "execution_count": 21,
   "id": "e26c018b",
   "metadata": {
    "execution": {
     "iopub.execute_input": "2021-10-07T11:42:22.964025Z",
     "iopub.status.busy": "2021-10-07T11:42:22.963223Z",
     "iopub.status.idle": "2021-10-07T11:42:22.965049Z",
     "shell.execute_reply": "2021-10-07T11:42:22.965573Z",
     "shell.execute_reply.started": "2021-10-07T11:22:18.026146Z"
    },
    "papermill": {
     "duration": 0.050044,
     "end_time": "2021-10-07T11:42:22.965764",
     "exception": false,
     "start_time": "2021-10-07T11:42:22.915720",
     "status": "completed"
    },
    "tags": []
   },
   "outputs": [],
   "source": [
    "#function can be found on surprise documentation FAQs\n",
    "def get_top_n(predictions, n=10):\n",
    "    \"\"\"Return the top-N recommendation for each user from a set of predictions.\n",
    "\n",
    "    Args:\n",
    "        predictions(list of Prediction objects): The list of predictions, as\n",
    "            returned by the test method of an algorithm.\n",
    "        n(int): The number of recommendation to output for each user. Default\n",
    "            is 10.\n",
    "\n",
    "    Returns:\n",
    "    A dict where keys are user (raw) ids and values are lists of tuples:\n",
    "        [(raw item id, rating estimation), ...] of size n.\n",
    "    \"\"\"\n",
    "\n",
    "    # First map the predictions to each user.\n",
    "    top_n = defaultdict(list)\n",
    "    for uid, iid, true_r, est, _ in predictions:\n",
    "        top_n[uid].append((iid, est))\n",
    "\n",
    "    # Then sort the predictions for each user and retrieve the k highest ones.\n",
    "    for uid, user_ratings in top_n.items():\n",
    "        user_ratings.sort(key=lambda x: x[1], reverse=True)\n",
    "        top_n[uid] = user_ratings[:n]\n",
    "\n",
    "    return top_n"
   ]
  },
  {
   "cell_type": "code",
   "execution_count": 22,
   "id": "49b1dcde",
   "metadata": {
    "execution": {
     "iopub.execute_input": "2021-10-07T11:42:23.051654Z",
     "iopub.status.busy": "2021-10-07T11:42:23.050909Z",
     "iopub.status.idle": "2021-10-07T11:42:24.508736Z",
     "shell.execute_reply": "2021-10-07T11:42:24.508061Z",
     "shell.execute_reply.started": "2021-10-07T11:22:18.036694Z"
    },
    "papermill": {
     "duration": 1.50153,
     "end_time": "2021-10-07T11:42:24.508936",
     "exception": false,
     "start_time": "2021-10-07T11:42:23.007406",
     "status": "completed"
    },
    "tags": []
   },
   "outputs": [],
   "source": [
    "trainset = data.build_full_trainset()\n",
    "testset = trainset.build_anti_testset()"
   ]
  },
  {
   "cell_type": "code",
   "execution_count": 23,
   "id": "fe10d409",
   "metadata": {
    "execution": {
     "iopub.execute_input": "2021-10-07T11:42:24.646293Z",
     "iopub.status.busy": "2021-10-07T11:42:24.641113Z",
     "iopub.status.idle": "2021-10-07T11:49:47.686218Z",
     "shell.execute_reply": "2021-10-07T11:49:47.686737Z",
     "shell.execute_reply.started": "2021-10-07T11:22:19.584343Z"
    },
    "papermill": {
     "duration": 443.138676,
     "end_time": "2021-10-07T11:49:47.686933",
     "exception": false,
     "start_time": "2021-10-07T11:42:24.548257",
     "status": "completed"
    },
    "tags": []
   },
   "outputs": [
    {
     "name": "stdout",
     "output_type": "stream",
     "text": [
      "model: NormalPredictor, 196: [[302   5]\n",
      " [465   5]\n",
      " [451   5]\n",
      " [274   5]\n",
      " [ 98   5]]\n",
      "model: KNNBasic, 196: [[1189    5]\n",
      " [1500    5]\n",
      " [ 814    5]\n",
      " [1536    5]\n",
      " [1293    5]]\n",
      "model: KNNBasic, 196: [[1189    5]\n",
      " [1500    5]\n",
      " [ 814    5]\n",
      " [1536    5]\n",
      " [1293    5]]\n",
      "model: SVD, 196: [[187.     4.65]\n",
      " [169.     4.63]\n",
      " [ 98.     4.58]\n",
      " [ 64.     4.56]\n",
      " [318.     4.54]]\n"
     ]
    }
   ],
   "source": [
    "models = [model_random, model_user_based, model_item_based, model_svd]\n",
    "for model in models:\n",
    "    model.fit(trainset)\n",
    "    predictions = model.test(testset)\n",
    "    top_n = get_top_n(predictions, n=5)\n",
    "    # Print the first one\n",
    "    user = list(top_n.keys())[0]\n",
    "    print(f'model: {model.__class__.__name__}, {user}: {np.round(top_n[user],2)}')"
   ]
  },
  {
   "cell_type": "markdown",
   "id": "73022dc8",
   "metadata": {
    "papermill": {
     "duration": 0.040293,
     "end_time": "2021-10-07T11:49:47.768198",
     "exception": false,
     "start_time": "2021-10-07T11:49:47.727905",
     "status": "completed"
    },
    "tags": []
   },
   "source": [
    "## 5.\tDo the top n predictions that you received make sense? What is the rating value (1-5) of these predictions? How could you use these predictions in the real-world if you were trying to build a generic content recommender system for a company?"
   ]
  },
  {
   "cell_type": "markdown",
   "id": "7d2b6cf6",
   "metadata": {
    "papermill": {
     "duration": 0.040137,
     "end_time": "2021-10-07T11:49:47.848862",
     "exception": false,
     "start_time": "2021-10-07T11:49:47.808725",
     "status": "completed"
    },
    "tags": []
   },
   "source": [
    "**Ans:**\n",
    "\n",
    "*As expected, we have got the predictions (n=5) for each model. We printed the predictions for One user for each model. Collaborative models  (User-based & Item-based) have given exactly same recommendations.*\n",
    "\n",
    "*The rating values for Random, User-based,and Item-based is fixed at 5.*\n",
    "*The rating values for Matrix Factorization using SVD have a mean of 4.474 and a standard deviation of 0.1.* \n",
    "\n",
    "*(The value can differ everytime the code is executed. The present value might be different owing to different results while training and testing)*\n",
    "\n",
    "*Recommender systems are used by E-commerce portals to recommend products to their customers. The products can be recommended based on the top overall sellers on a site, based on the demographics of the customer, or based on an analysis of the past buying behavior of the customer as a prediction for future buying behavior.*"
   ]
  },
  {
   "cell_type": "markdown",
   "id": "2d00e21b",
   "metadata": {
    "papermill": {
     "duration": 0.041626,
     "end_time": "2021-10-07T11:49:47.931763",
     "exception": false,
     "start_time": "2021-10-07T11:49:47.890137",
     "status": "completed"
    },
    "tags": []
   },
   "source": [
    "<H3 style =\"text-align:center\"><strong> Happy Learning</strong></H3>"
   ]
  }
 ],
 "metadata": {
  "kernelspec": {
   "display_name": "Python 3",
   "language": "python",
   "name": "python3"
  },
  "language_info": {
   "codemirror_mode": {
    "name": "ipython",
    "version": 3
   },
   "file_extension": ".py",
   "mimetype": "text/x-python",
   "name": "python",
   "nbconvert_exporter": "python",
   "pygments_lexer": "ipython3",
   "version": "3.7.10"
  },
  "papermill": {
   "default_parameters": {},
   "duration": 832.892913,
   "end_time": "2021-10-07T11:49:49.387728",
   "environment_variables": {},
   "exception": null,
   "input_path": "__notebook__.ipynb",
   "output_path": "__notebook__.ipynb",
   "parameters": {},
   "start_time": "2021-10-07T11:35:56.494815",
   "version": "2.3.3"
  }
 },
 "nbformat": 4,
 "nbformat_minor": 5
}
